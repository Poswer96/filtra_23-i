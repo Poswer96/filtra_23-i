{
 "cells": [
  {
   "cell_type": "markdown",
   "id": "feed662d",
   "metadata": {},
   "source": [
    "# Análisis de la Aproximación Butterworth\n",
    "## Filtro pasa bajas de orden N"
   ]
  },
  {
   "cell_type": "markdown",
   "id": "8cc2c9c4",
   "metadata": {},
   "source": [
    "**Definición**\n",
    "\n",
    "La función de transferencia con la aproximación Butterworth $H(j\\omega)$ para un filtro pasa bajas no normalizado se define como\n",
    "$$\\left|{\\large H}^{\\scriptsize(N)}_{\\scriptsize PB}(j\\omega)\\right| \\triangleq \\dfrac{1}{\\sqrt{1+\\left(\\dfrac{\\omega}{\\omega_c} \\right)^{2N}}}$$\n",
    "\n",
    "donde $N$ es el orden del filtro y $\\omega_c$ la frecuencia de corte en $\\dfrac{rad}{s}$\n",
    "\n",
    "$$\\left|{\\large H}^{\\scriptsize(N)}_{\\scriptsize PBN}(j\\omega)\\right|^2 = \\dfrac{1}{1 + \\omega^{2N}}$$\n",
    "\n",
    "La localización de los polos de dicha función se ubican en \n",
    "$$s_k=\\omega_cexp\\left( j\\Theta_k \\right)$$\n",
    "\n",
    "$$\\Theta_k = \\dfrac{\\pi}{2n}(2k+n-1)$$"
   ]
  },
  {
   "cell_type": "code",
   "execution_count": 1,
   "id": "c74a8655",
   "metadata": {},
   "outputs": [],
   "source": [
    "import ipywidgets as widgets\n",
    "from ipywidgets import HBox, VBox\n",
    "import numpy as np\n",
    "import matplotlib.pyplot as plt\n",
    "from IPython.display import display\n",
    "%matplotlib inline"
   ]
  },
  {
   "cell_type": "code",
   "execution_count": 2,
   "id": "de79bc80",
   "metadata": {},
   "outputs": [],
   "source": [
    "import numpy as np\n",
    "from matplotlib import pyplot as plt\n",
    "\n",
    "def plot_poles(hs):\n",
    "    wc = np.abs(hs)[0]\n",
    "    re = np.real(hs)\n",
    "    im = np.imag(hs)\n",
    "    #\n",
    "    plt.figure(figsize=(8,8))\n",
    "    #\n",
    "    plt.plot(re, im, 'o', markersize=14)\n",
    "    circle = plt.Circle((0,0), wc, color='r', fill=False, linewidth=3)\n",
    "    plt.gca().add_patch(circle)\n",
    "    #\n",
    "    plt.plot([0], [0], 'ok', markersize=12)\n",
    "    plt.axvline(0, color='black', linewidth=3)\n",
    "    plt.axhline(0, color='black', linewidth=3)\n",
    "    plt.grid(True)\n",
    "    plt.show()\n",
    "\n",
    "def print_complex(c):\n",
    "    def split(x):\n",
    "        xre, xim = np.real(x), np.imag(x)\n",
    "        txt  = \"{}\".format(' -'[1*(xre<0)]) \n",
    "        txt += f\"{abs(xre):6.4f}\"\n",
    "        txt += \" {} \".format('+-'[1*(xim<0)]) \n",
    "        txt += f\"{abs(xim):6.4f}j\"\n",
    "        return txt\n",
    "    #\n",
    "    clist = list(map(split, c))\n",
    "    clist = \"\\n\".join(clist)\n",
    "    print(clist)\n",
    "#\n",
    "class respuesta_f:\n",
    "    def __init__(self, w_max=1000):\n",
    "        SR         = 5\n",
    "        self.w_max = w_max\n",
    "        self.w     = np.arange(1, SR*w_max)/SR\n",
    "    #\n",
    "    def set_Hs(self, Y, X):\n",
    "        self.Hs = Y/X\n",
    "    #\n",
    "    @staticmethod\n",
    "    def plot_mag(H, w, color='orange'):\n",
    "        M_dB = 20*np.log10(np.abs(H))\n",
    "        #\n",
    "        plt.figure('Magnitud [dB]', figsize=(12, 6))\n",
    "        plt.semilogx(w, M_dB, color, linewidth=3)\n",
    "        plt.grid(True)\n",
    "        #plt.show()\n",
    "        \n",
    "    @staticmethod\n",
    "    def plot_phase(H, w, color='blue'):\n",
    "        angle = np.angle(H, deg=True)\n",
    "        #\n",
    "        plt.figure('Fase [°]', figsize=(12, 7))\n",
    "        plt.semilogx(w, angle, color, linewidth=3)\n",
    "        plt.grid(True)\n",
    "        #plt.show()"
   ]
  },
  {
   "cell_type": "code",
   "execution_count": 3,
   "id": "41bf52d7",
   "metadata": {},
   "outputs": [
    {
     "name": "stdout",
     "output_type": "stream",
     "text": [
      "-0.5000 + 0.8660j\n",
      "-1.0000 + 0.0000j\n",
      "-0.5000 - 0.8660j\n",
      " 0.5000 - 0.8660j\n",
      " 1.0000 - 0.0000j\n",
      " 0.5000 + 0.8660j\n"
     ]
    }
   ],
   "source": [
    "n = 3.\n",
    "#k = np.arange(2*n)\n",
    "k   = np.arange(1, 2*n + 1)\n",
    "sec = 1j*np.pi/(2*n)\n",
    "s   = np.exp(sec*(2*k + n - 1))\n",
    "print_complex(s)"
   ]
  },
  {
   "cell_type": "code",
   "execution_count": 4,
   "id": "587a0f2d",
   "metadata": {},
   "outputs": [
    {
     "data": {
      "image/png": "[encoded data removed]",
      "text/plain": [
       "<Figure size 576x576 with 1 Axes>"
      ]
     },
     "metadata": {
      "needs_background": "light"
     },
     "output_type": "display_data"
    }
   ],
   "source": [
    "plot_poles(s)"
   ]
  },
  {
   "cell_type": "code",
   "execution_count": 5,
   "id": "56b0eae5",
   "metadata": {},
   "outputs": [],
   "source": [
    "def butter(n=2):\n",
    "    #k = np.arange(2*n)\n",
    "    k   = np.arange(1, 2*n + 1)\n",
    "    sec = 1j*np.pi/(2*n)\n",
    "    s   = np.exp(sec*(2*k + n - 1))\n",
    "    return s"
   ]
  },
  {
   "cell_type": "code",
   "execution_count": 6,
   "id": "ce16124a",
   "metadata": {},
   "outputs": [
    {
     "data": {
      "application/vnd.jupyter.widget-view+json": {
       "model_id": "53ce6e76db534f6ea516c712bd0da015",
       "version_major": 2,
       "version_minor": 0
      },
      "text/plain": [
       "interactive(children=(IntSlider(value=2, description='n', max=10, min=1), Output()), _dom_classes=('widget-int…"
      ]
     },
     "metadata": {},
     "output_type": "display_data"
    }
   ],
   "source": [
    "@widgets.interact(n=(1, 10, 1))\n",
    "def butter_poles(n=2):\n",
    "    s = butter(n)\n",
    "    plot_poles(s)    \n",
    "    print_complex(s)"
   ]
  },
  {
   "cell_type": "code",
   "execution_count": 7,
   "id": "d35c753c",
   "metadata": {},
   "outputs": [
    {
     "data": {
      "application/vnd.jupyter.widget-view+json": {
       "model_id": "7871f3a71a4443109a972f2d97154898",
       "version_major": 2,
       "version_minor": 0
      },
      "text/plain": [
       "interactive(children=(IntSlider(value=2, description='n', max=10, min=1), Output()), _dom_classes=('widget-int…"
      ]
     },
     "metadata": {},
     "output_type": "display_data"
    }
   ],
   "source": [
    "@widgets.interact(n=(1, 10, 1))\n",
    "def butter_poles(n=2):\n",
    "    s = butter(n)\n",
    "    #\n",
    "    mask   = np.real(s)<0\n",
    "    s_estb = s[mask]\n",
    "    plot_poles(s_estb)\n",
    "    print_complex(s_estb)"
   ]
  },
  {
   "cell_type": "code",
   "execution_count": 8,
   "id": "828381c5",
   "metadata": {
    "scrolled": true
   },
   "outputs": [
    {
     "data": {
      "text/plain": [
       "-0.37499762103427225"
      ]
     },
     "execution_count": 8,
     "metadata": {},
     "output_type": "execute_result"
    }
   ],
   "source": [
    "(np.arctan(0.9239/-0.3827))/np.pi"
   ]
  },
  {
   "cell_type": "markdown",
   "id": "0a53cd8a",
   "metadata": {},
   "source": [
    "Los polos $\\Theta_k$ en la función de transferencia $H(s)$: \n",
    "$$H(s) = {\\Large\\Pi}_{\\small k=1}^{\\small N}\\left( \\dfrac{1}{s - {\\Large e}^{j\\Theta_k}} \\right)$$\n",
    "\n",
    "Para $N$ par\n",
    "$$H(s) = {\\Large\\Pi}_{\\small k=1}^{\\small N/2}\\left( \\dfrac{1}{s^2 - 2cos(\\Theta_k)s + 1} \\right)$$\n",
    "\n",
    "Para $N$ impar\n",
    "$$H(s) = {\\Large\\Pi}_{\\small k=1}^{\\small \\lfloor N/2\\rfloor}\\left( \\dfrac{1}{s^2 - 2cos(\\Theta_k)s + 1} \\right)\\left( \\dfrac{1}{s + 1} \\right)$$"
   ]
  },
  {
   "cell_type": "code",
   "execution_count": 9,
   "id": "6d6fea33",
   "metadata": {},
   "outputs": [
    {
     "data": {
      "application/vnd.jupyter.widget-view+json": {
       "model_id": "c92512598d54472696ff816b8902936d",
       "version_major": 2,
       "version_minor": 0
      },
      "text/plain": [
       "interactive(children=(IntSlider(value=2, description='n', max=10, min=1), Output()), _dom_classes=('widget-int…"
      ]
     },
     "metadata": {},
     "output_type": "display_data"
    }
   ],
   "source": [
    "@widgets.interact(n=(1, 10, 1))\n",
    "def butter_coef(n=2):\n",
    "    k     = np.arange(1, n//2 + 1)\n",
    "    theta = np.pi/(2*n)*(2*k + n - 1)\n",
    "    print(theta, 2*np.cos(theta))\n",
    "    if n%2!=0:\n",
    "        print(1)"
   ]
  },
  {
   "cell_type": "code",
   "execution_count": 10,
   "id": "4067d007",
   "metadata": {},
   "outputs": [
    {
     "data": {
      "application/vnd.jupyter.widget-view+json": {
       "model_id": "1fa911d8227a48df8ad19134e41511ed",
       "version_major": 2,
       "version_minor": 0
      },
      "text/plain": [
       "interactive(children=(IntSlider(value=2, description='n', max=12, min=1), Output()), _dom_classes=('widget-int…"
      ]
     },
     "metadata": {},
     "output_type": "display_data"
    }
   ],
   "source": [
    "@widgets.interact(n=(1, 12, 1))\n",
    "def butter_coef(n=2):\n",
    "    k     = np.arange(1, n//2 + 1)\n",
    "    theta = np.pi/(2*n)*(2*k + n - 1)\n",
    "    num  = (' '*8 + '1' + ' '*10)*len(theta)\n",
    "    frac = ('-'*17 + '  ')*len(theta)\n",
    "    den  = \"\"\n",
    "    for th in theta:\n",
    "        den += f\"s^2 + {2*abs(np.cos(th)):6.4f}s + 1  \"\n",
    "    if n%2!=0:\n",
    "        num  += ' '*2 + '1' + ' '*2\n",
    "        frac += '-'*5\n",
    "        den  += f\"s + 1  \"\n",
    "    #\n",
    "    print(num)\n",
    "    print(frac)\n",
    "    print(den)"
   ]
  },
  {
   "cell_type": "code",
   "execution_count": 11,
   "id": "ef0445ff",
   "metadata": {},
   "outputs": [
    {
     "data": {
      "application/vnd.jupyter.widget-view+json": {
       "model_id": "d5e6e034fef04cfa8c137195f8352c27",
       "version_major": 2,
       "version_minor": 0
      },
      "text/plain": [
       "interactive(children=(IntSlider(value=2, description='n', max=12, min=1), Checkbox(value=False, description='c…"
      ]
     },
     "metadata": {},
     "output_type": "display_data"
    }
   ],
   "source": [
    "w_max  = 1E3\n",
    "colors = ['green', 'blue', 'lime', 'violet', 'black', 'magenta']\n",
    "@widgets.interact(n=(1, 12, 1), cascade=False)\n",
    "def butter_coef(n=2, cascade=False):\n",
    "    k     = np.arange(1, n//2 + 1)\n",
    "    theta = np.pi/(2*n)*(2*k + n - 1)\n",
    "    #\n",
    "    H = [respuesta_f(w_max) for h in theta]\n",
    "    #\n",
    "    XT = 1\n",
    "    for h, t, c in zip(H, theta, colors):\n",
    "        s  = 1j*h.w\n",
    "        Ys = 1\n",
    "        Xs = s**2 - 2*np.cos(t)*s + 1\n",
    "        h.set_Hs(Ys, Xs)\n",
    "        respuesta_f.plot_mag(h.Hs, h.w, color=c)\n",
    "        XT *= Xs\n",
    "    #\n",
    "    if n%2!=0:\n",
    "        h1 = respuesta_f(w_max)\n",
    "        s  = 1j*h1.w\n",
    "        Ys = 1\n",
    "        Xs = s + 1\n",
    "        h1.set_Hs(Ys, Xs)\n",
    "        respuesta_f.plot_mag(h1.Hs, h1.w)\n",
    "        XT *= Xs\n",
    "    #\n",
    "    if cascade:\n",
    "        ht = respuesta_f(w_max)\n",
    "        s  = 1j*ht.w\n",
    "        ht.set_Hs(1, XT)\n",
    "        respuesta_f.plot_mag(ht.Hs, ht.w, color='red')"
   ]
  },
  {
   "cell_type": "markdown",
   "id": "55665fdb",
   "metadata": {},
   "source": [
    "## Transformación en Frecuencias\n",
    "### Pasa-bajas a basa-bajas\n",
    "\n",
    "$${\\large H}_{\\scriptsize PBN}^{\\scriptsize (1)}(s) = \\dfrac{1}{s + 1}$$\n",
    "$${\\large H}_{\\scriptsize PB}^{\\scriptsize (1)}(s) = {\\large H}(s)\\Bigm\\lvert_{s=\\frac{s}{\\omega_c}} = \\dfrac{1}{\\left(\\dfrac{s}{\\omega_c}\\right) + 1} \\quad\\quad= \\dfrac{\\omega_c}{s + \\omega_c}$$\n",
    "\n",
    "$${\\large H}_{\\scriptsize PBN}^{\\scriptsize (2)}(s) = \\dfrac{1}{s^2 + 2\\zeta s + 1}$$\n",
    "$${\\large H}_{\\scriptsize PB}^{\\scriptsize (2)}(s) = {\\large H}(s)\\Bigm\\lvert_{s=\\frac{s}{\\omega_c}} = \\dfrac{1}{\\left(\\dfrac{s}{\\omega_c}\\right)^2 + 2\\zeta\\left(\\dfrac{s}{\\omega_c}\\right) + 1} \\quad\\quad= \\dfrac{\\omega_c^2}{s^2 + 2\\zeta\\omega_c s + \\omega_c^2}$$"
   ]
  },
  {
   "cell_type": "markdown",
   "id": "15ff045a",
   "metadata": {},
   "source": [
    "## Estimar el Orden del Filtro"
   ]
  },
  {
   "cell_type": "code",
   "execution_count": 12,
   "id": "0dd77989",
   "metadata": {},
   "outputs": [
    {
     "data": {
      "application/vnd.jupyter.widget-view+json": {
       "model_id": "c3bf376092824f1fb9b4df0323f19863",
       "version_major": 2,
       "version_minor": 0
      },
      "text/plain": [
       "interactive(children=(IntSlider(value=10, description='fp', max=300, min=1), IntSlider(value=15, description='…"
      ]
     },
     "metadata": {},
     "output_type": "display_data"
    }
   ],
   "source": [
    "@widgets.interact(fp=(1, 300), fr=(10, 800), Ap=(0.1, 4), Ar=(10, 150))\n",
    "def butter_design(fp=10, fr=15, Ap=0.1, Ar=25):\n",
    "    G = lambda A: 10**(0.1*A) - 1\n",
    "    #wp = 2*np.pi*fp\n",
    "    #wr = 2*np.pi*fr\n",
    "    wp = fp\n",
    "    wr = fr\n",
    "    #\n",
    "    N = np.log(G(Ap)/G(Ar)) / (2*np.log(wp/wr))\n",
    "    #\n",
    "    fcp = wp*(Ap)**(-1/(2*N))/(2*np.pi)\n",
    "    fcr = wr*(Ar)**(-1/(2*N))/(2*np.pi)\n",
    "    #\n",
    "    if wr < wp:\n",
    "        print(\"Error wr < wp\")\n",
    "    else:\n",
    "        print(f\"\\\n",
    "        N = {N:6.4f},  \\\n",
    "        N_impl = {int(np.ceil(N))},  \\\n",
    "        fc_p = {fcp:6.4f} Hz,  \\\n",
    "        fc_r = {fcr:6.4f} Hz\")"
   ]
  },
  {
   "cell_type": "code",
   "execution_count": 13,
   "id": "de8ac700",
   "metadata": {},
   "outputs": [
    {
     "data": {
      "application/vnd.jupyter.widget-view+json": {
       "model_id": "5320d6dc4dc149ecbba9c6ee962f8182",
       "version_major": 2,
       "version_minor": 0
      },
      "text/plain": [
       "interactive(children=(IntSlider(value=20, description='fp', max=300, min=1), FloatSlider(value=1.5, descriptio…"
      ]
     },
     "metadata": {},
     "output_type": "display_data"
    }
   ],
   "source": [
    "@widgets.interact(fp=(1, 300), Ap=(1.5, 5), r_a=(0.1, 0.9), r_w=(0.01, 1))\n",
    "def butter_design(fp=20, Ap=-0.05, r_a=0.5, r_w=.1):\n",
    "    G = lambda A: 10**(0.1*A) - 1\n",
    "    #\n",
    "    wp = 2*np.pi*fp\n",
    "    wr = wp*r_w\n",
    "    #\n",
    "    num = np.log10(Ap)/np.log10(Ap*r_a**2)\n",
    "    den = 2*np.log10(r_w)\n",
    "    N   = num/den\n",
    "    print(f\"{N= :6.4f}\")\n",
    "    #wp = 2*np.pi*fp\n",
    "    #\n",
    "    #print(f\"\\\n",
    "    #N = {N:6.4f},  \\\n",
    "    #_impl = {int(np.ceil(N))},  \\\n",
    "    #fc_p = {fcp:6.4f} Hz,  \\\n",
    "    #fc_r = {fcr:6.4f} Hz\")"
   ]
  },
  {
   "cell_type": "code",
   "execution_count": 14,
   "id": "21a92682",
   "metadata": {},
   "outputs": [
    {
     "name": "stdout",
     "output_type": "stream",
     "text": [
      "\n",
      "Ap = -0.1000\n",
      "Ar = -25.1000\n",
      "wp = 10.0000\n",
      "wr = 15.0000\n",
      "N  = 0.3328, 1\n",
      "\n"
     ]
    },
    {
     "data": {
      "text/plain": [
       "-1.6414305409622882"
      ]
     },
     "execution_count": 14,
     "metadata": {},
     "output_type": "execute_result"
    }
   ],
   "source": [
    "d  = 25\n",
    "l  = 1.5\n",
    "Ap = - 0.1\n",
    "Ar = Ap - 25\n",
    "wp = 10\n",
    "wr = wp*l\n",
    "\n",
    "num = (np.power(10, (0.1*Ap)) - 1)\\\n",
    "    / (np.power(10, (0.1*Ar)) - 1)\n",
    "num = np.log10(num)\n",
    "den = np.log(1/l)\n",
    "N   = 0.5*num*den\n",
    "#\n",
    "output = f\"\"\"\n",
    "{Ap = :6.4f}\n",
    "{Ar = :6.4f}\n",
    "{wp = :6.4f}\n",
    "{wr = :6.4f}\n",
    "{N  = :6.4f}, {np.ceil(N).astype('int'):d}\n",
    "\"\"\"\n",
    "\n",
    "print(output)\n",
    "num"
   ]
  },
  {
   "cell_type": "code",
   "execution_count": 39,
   "id": "f1d28a1b",
   "metadata": {},
   "outputs": [
    {
     "name": "stdout",
     "output_type": "stream",
     "text": [
      "\n",
      "wp = 10.0000\n",
      "wr = 15.0000\n",
      "N  = 5.6810, 6\n",
      "\n"
     ]
    },
    {
     "data": {
      "text/plain": [
       "(-4.586781892760308, -2.4771212547196626)"
      ]
     },
     "execution_count": 39,
     "metadata": {},
     "output_type": "execute_result"
    }
   ],
   "source": [
    "k     = 40\n",
    "l     = 20\n",
    "e_num = 0.2589254117941673\n",
    "\n",
    "num = e_num\\\n",
    "    / (np.power(10, (0.1*k)) - 1)\n",
    "num = np.log10(num)\n",
    "den = np.log10(4/1200)\n",
    "N   = 0.5*num*den\n",
    "#\n",
    "output = f\"\"\"\n",
    "{wp = :6.4f}\n",
    "{wr = :6.4f}\n",
    "{N  = :6.4f}, {np.ceil(N).astype('int'):d}\n",
    "\"\"\"\n",
    "\n",
    "print(output)\n",
    "num, den"
   ]
  },
  {
   "cell_type": "code",
   "execution_count": 15,
   "id": "b4a7014c",
   "metadata": {},
   "outputs": [
    {
     "data": {
      "text/plain": [
       "-0.9969097045674864"
      ]
     },
     "execution_count": 15,
     "metadata": {},
     "output_type": "execute_result"
    }
   ],
   "source": [
    "(np.power(10, (0.1*Ar)) - 1)"
   ]
  },
  {
   "cell_type": "code",
   "execution_count": 20,
   "id": "f8c6e04a",
   "metadata": {},
   "outputs": [
    {
     "data": {
      "text/plain": [
       "99.0"
      ]
     },
     "execution_count": 20,
     "metadata": {},
     "output_type": "execute_result"
    }
   ],
   "source": [
    "10**(0.1*20) - 1"
   ]
  }
 ],
 "metadata": {
  "kernelspec": {
   "display_name": "Python 3",
   "language": "python",
   "name": "python3"
  },
  "language_info": {
   "codemirror_mode": {
    "name": "ipython",
    "version": 3
   },
   "file_extension": ".py",
   "mimetype": "text/x-python",
   "name": "python",
   "nbconvert_exporter": "python",
   "pygments_lexer": "ipython3",
   "version": "3.10.7"
  },
  "vscode": {
   "interpreter": {
    "hash": "916dbcbb3f70747c44a77c7bcd40155683ae19c65e1c03b4aa3499c5328201f1"
   }
  }
 },
 "nbformat": 4,
 "nbformat_minor": 5
}
